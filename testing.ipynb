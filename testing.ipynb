{
 "cells": [
  {
   "cell_type": "code",
   "execution_count": 1,
   "metadata": {},
   "outputs": [
    {
     "name": "stdout",
     "output_type": "stream",
     "text": [
      "['index', 'sector', 'difficulty', 'hardproblemprompt']\n"
     ]
    }
   ],
   "source": [
    "##print the column names of this file complextasks.csv\n",
    "import csv\n",
    "with open('complextasks.csv', 'r') as file:\n",
    "    print(file.readline().strip().split(','))"
   ]
  },
  {
   "cell_type": "code",
   "execution_count": null,
   "metadata": {},
   "outputs": [],
   "source": [
    "import pandas as pd\n",
    "import json\n",
    "import os\n",
    "from tqdm import tqdm\n",
    "\n",
    "\n",
    "\"\"\"\n",
    "    The reason why for now each hard question has its own folder is because the tree of thought json files are going to be absolutely massive.\n",
    "\"\"\"\n",
    "\n",
    "\n",
    "\n",
    "\n",
    "def create_simple_problem_folders(input_file, base_folder='problem_sets'):\n",
    "    # Read the Parquet file\n",
    "    df = pd.read_parquet(input_file)\n",
    "    \n",
    "    # Create the base folder if it doesn't exist\n",
    "    os.makedirs(base_folder, exist_ok=True)\n",
    "    \n",
    "    # Iterate through each problem and create the folder structure\n",
    "    for _, row in tqdm(df.iterrows(), total=len(df), desc=\"Creating problem folders\"):\n",
    "        index = row['index']\n",
    "        \n",
    "        # Create folder path\n",
    "        folder_path = os.path.join(base_folder, f\"problem_{index}\")\n",
    "        os.makedirs(folder_path, exist_ok=True)\n",
    "        \n",
    "        # Create JSON file for the problem\n",
    "        problem_data = {\n",
    "            \"index\": int(index),\n",
    "            \"sector\": row['sector'],\n",
    "            \"difficulty\": row['difficulty'],\n",
    "            \"problem_statement\": row['hardproblemprompt']\n",
    "        }\n",
    "        \n",
    "        json_file_path = os.path.join(folder_path, \"problem_data.json\")\n",
    "        with open(json_file_path, 'w') as json_file:\n",
    "            json.dump(problem_data, json_file, indent=2)\n",
    "\n",
    "    print(f\"Folder structure created in '{base_folder}'\")\n",
    "\n",
    "# Usage\n",
    "input_file = 'complextasks.parquet'\n",
    "create_simple_problem_folders(input_file)"
   ]
  }
 ],
 "metadata": {
  "kernelspec": {
   "display_name": "tensorflow",
   "language": "python",
   "name": "python3"
  },
  "language_info": {
   "codemirror_mode": {
    "name": "ipython",
    "version": 3
   },
   "file_extension": ".py",
   "mimetype": "text/x-python",
   "name": "python",
   "nbconvert_exporter": "python",
   "pygments_lexer": "ipython3",
   "version": "3.9.18"
  }
 },
 "nbformat": 4,
 "nbformat_minor": 2
}
